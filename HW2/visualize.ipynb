{
 "cells": [
  {
   "cell_type": "markdown",
   "metadata": {
    "id": "unbJvDNCRkWR"
   },
   "source": [
    "# IFT 6758 - Assignment 2"
   ]
  },
  {
   "cell_type": "code",
   "execution_count": 1,
   "metadata": {},
   "outputs": [],
   "source": [
    "%load_ext autoreload\n",
    "%autoreload 2"
   ]
  },
  {
   "cell_type": "markdown",
   "metadata": {
    "id": "NYfjiSBBRkkz",
    "tags": []
   },
   "source": [
    "## Question 1\n",
    "\n",
    "### a)\n",
    "Begin by using the functions created in `q1.py` to make the data more informative and readable. Specifically, complete the following cells:\n"
   ]
  },
  {
   "cell_type": "code",
   "execution_count": 2,
   "metadata": {},
   "outputs": [],
   "source": [
    "import pandas as pd\n",
    "import numpy as np\n",
    "import time\n",
    "import matplotlib.pyplot as plt\n",
    "import seaborn as sns\n",
    "from q1 import count_labels, convert_id, convert_ids, contains_label, get_conditional_proportion\n",
    "\n",
    "sns.set(style=\"ticks\")"
   ]
  },
  {
   "cell_type": "code",
   "execution_count": 3,
   "metadata": {
    "id": "k3cbzq-MRp7Y"
   },
   "outputs": [
    {
     "data": {
      "text/html": [
       "<div>\n",
       "<style scoped>\n",
       "    .dataframe tbody tr th:only-of-type {\n",
       "        vertical-align: middle;\n",
       "    }\n",
       "\n",
       "    .dataframe tbody tr th {\n",
       "        vertical-align: top;\n",
       "    }\n",
       "\n",
       "    .dataframe thead th {\n",
       "        text-align: right;\n",
       "    }\n",
       "</style>\n",
       "<table border=\"1\" class=\"dataframe\">\n",
       "  <thead>\n",
       "    <tr style=\"text-align: right;\">\n",
       "      <th></th>\n",
       "      <th># YTID</th>\n",
       "      <th>start_seconds</th>\n",
       "      <th>end_seconds</th>\n",
       "      <th>positive_labels</th>\n",
       "    </tr>\n",
       "  </thead>\n",
       "  <tbody>\n",
       "    <tr>\n",
       "      <th>0</th>\n",
       "      <td>--4gqARaEJE</td>\n",
       "      <td>0.0</td>\n",
       "      <td>10.0</td>\n",
       "      <td>/m/068hy,/m/07q6cd_,/m/0bt9lr,/m/0jbk</td>\n",
       "    </tr>\n",
       "    <tr>\n",
       "      <th>1</th>\n",
       "      <td>--BfvyPmVMo</td>\n",
       "      <td>20.0</td>\n",
       "      <td>30.0</td>\n",
       "      <td>/m/03l9g</td>\n",
       "    </tr>\n",
       "    <tr>\n",
       "      <th>2</th>\n",
       "      <td>--U7joUcTCo</td>\n",
       "      <td>0.0</td>\n",
       "      <td>10.0</td>\n",
       "      <td>/m/01b_21</td>\n",
       "    </tr>\n",
       "    <tr>\n",
       "      <th>3</th>\n",
       "      <td>--i-y1v8Hy8</td>\n",
       "      <td>0.0</td>\n",
       "      <td>9.0</td>\n",
       "      <td>/m/04rlf,/m/09x0r,/t/dd00004,/t/dd00005</td>\n",
       "    </tr>\n",
       "    <tr>\n",
       "      <th>4</th>\n",
       "      <td>-0BIyqJj9ZU</td>\n",
       "      <td>30.0</td>\n",
       "      <td>40.0</td>\n",
       "      <td>/m/07rgt08,/m/07sq110,/t/dd00001</td>\n",
       "    </tr>\n",
       "  </tbody>\n",
       "</table>\n",
       "</div>"
      ],
      "text/plain": [
       "        # YTID   start_seconds   end_seconds  \\\n",
       "0  --4gqARaEJE             0.0          10.0   \n",
       "1  --BfvyPmVMo            20.0          30.0   \n",
       "2  --U7joUcTCo             0.0          10.0   \n",
       "3  --i-y1v8Hy8             0.0           9.0   \n",
       "4  -0BIyqJj9ZU            30.0          40.0   \n",
       "\n",
       "                           positive_labels  \n",
       "0    /m/068hy,/m/07q6cd_,/m/0bt9lr,/m/0jbk  \n",
       "1                                 /m/03l9g  \n",
       "2                                /m/01b_21  \n",
       "3  /m/04rlf,/m/09x0r,/t/dd00004,/t/dd00005  \n",
       "4         /m/07rgt08,/m/07sq110,/t/dd00001  "
      ]
     },
     "execution_count": 3,
     "metadata": {},
     "output_type": "execute_result"
    }
   ],
   "source": [
    "# Load the `audio_segments.csv` into a DataFrame `df`\n",
    "\n",
    "# TODO\n",
    "audio_segments = pd.read_csv('data/audio_segments.csv')\n",
    "audio_segments.head()"
   ]
  },
  {
   "cell_type": "code",
   "execution_count": 9,
   "metadata": {},
   "outputs": [
    {
     "data": {
      "text/plain": [
       "Index(['# YTID', ' start_seconds', ' end_seconds', ' positive_labels'], dtype='object')"
      ]
     },
     "execution_count": 9,
     "metadata": {},
     "output_type": "execute_result"
    }
   ],
   "source": [
    "audio_segments.columns"
   ]
  },
  {
   "cell_type": "code",
   "execution_count": 4,
   "metadata": {
    "id": "TTvysi_WTL89"
   },
   "outputs": [],
   "source": [
    "# Add a column corresponding to the count of labels called `label_count`\n",
    "# Here, there is an annoying issue with accessing the positive_labels column\n",
    "\n",
    "# TODO\n",
    "audio_segments['label_count'] = audio_segments[' positive_labels'].apply(count_labels)"
   ]
  },
  {
   "cell_type": "code",
   "execution_count": 5,
   "metadata": {
    "id": "_0DftxCDTMHG"
   },
   "outputs": [
    {
     "name": "stdout",
     "output_type": "stream",
     "text": [
      "--- 81.51605772972107 seconds ---\n"
     ]
    }
   ],
   "source": [
    "# Add a new column called `label_names` with the processed human readable label names instead of label IDS\n",
    "\n",
    "# Print the time taken for this operation (either using the time module or timeit). \n",
    "# Since we are only executing this code once it is relatively fine that it takes a couple of minutes. \n",
    "# However, for a larger dataset, it would be worth the time to speed it up \n",
    "# (for example by creating a ID -> name dictionary once and using that).\n",
    "\n",
    "# TODO\n",
    "start_time = time.time()\n",
    "audio_segments['label_names'] = audio_segments[' positive_labels'].apply(convert_ids)\n",
    "print(\"--- %s seconds ---\" % (time.time() - start_time))"
   ]
  },
  {
   "cell_type": "code",
   "execution_count": 6,
   "metadata": {
    "id": "ZYkS4XLuTQRC"
   },
   "outputs": [
    {
     "data": {
      "text/html": [
       "<div>\n",
       "<style scoped>\n",
       "    .dataframe tbody tr th:only-of-type {\n",
       "        vertical-align: middle;\n",
       "    }\n",
       "\n",
       "    .dataframe tbody tr th {\n",
       "        vertical-align: top;\n",
       "    }\n",
       "\n",
       "    .dataframe thead th {\n",
       "        text-align: right;\n",
       "    }\n",
       "</style>\n",
       "<table border=\"1\" class=\"dataframe\">\n",
       "  <thead>\n",
       "    <tr style=\"text-align: right;\">\n",
       "      <th></th>\n",
       "      <th># YTID</th>\n",
       "      <th>start_seconds</th>\n",
       "      <th>end_seconds</th>\n",
       "      <th>positive_labels</th>\n",
       "      <th>label_count</th>\n",
       "      <th>label_names</th>\n",
       "    </tr>\n",
       "  </thead>\n",
       "  <tbody>\n",
       "    <tr>\n",
       "      <th>0</th>\n",
       "      <td>--4gqARaEJE</td>\n",
       "      <td>0.0</td>\n",
       "      <td>10.0</td>\n",
       "      <td>/m/068hy,/m/07q6cd_,/m/0bt9lr,/m/0jbk</td>\n",
       "      <td>4</td>\n",
       "      <td>Domestic animals, pets|Squeak|Dog|Animal</td>\n",
       "    </tr>\n",
       "    <tr>\n",
       "      <th>1</th>\n",
       "      <td>--BfvyPmVMo</td>\n",
       "      <td>20.0</td>\n",
       "      <td>30.0</td>\n",
       "      <td>/m/03l9g</td>\n",
       "      <td>1</td>\n",
       "      <td>Hammer</td>\n",
       "    </tr>\n",
       "    <tr>\n",
       "      <th>2</th>\n",
       "      <td>--U7joUcTCo</td>\n",
       "      <td>0.0</td>\n",
       "      <td>10.0</td>\n",
       "      <td>/m/01b_21</td>\n",
       "      <td>1</td>\n",
       "      <td>Cough</td>\n",
       "    </tr>\n",
       "    <tr>\n",
       "      <th>3</th>\n",
       "      <td>--i-y1v8Hy8</td>\n",
       "      <td>0.0</td>\n",
       "      <td>9.0</td>\n",
       "      <td>/m/04rlf,/m/09x0r,/t/dd00004,/t/dd00005</td>\n",
       "      <td>4</td>\n",
       "      <td>Music|Speech|Female singing|Child singing</td>\n",
       "    </tr>\n",
       "    <tr>\n",
       "      <th>4</th>\n",
       "      <td>-0BIyqJj9ZU</td>\n",
       "      <td>30.0</td>\n",
       "      <td>40.0</td>\n",
       "      <td>/m/07rgt08,/m/07sq110,/t/dd00001</td>\n",
       "      <td>3</td>\n",
       "      <td>Chuckle, chortle|Belly laugh|Baby laughter</td>\n",
       "    </tr>\n",
       "  </tbody>\n",
       "</table>\n",
       "</div>"
      ],
      "text/plain": [
       "        # YTID   start_seconds   end_seconds  \\\n",
       "0  --4gqARaEJE             0.0          10.0   \n",
       "1  --BfvyPmVMo            20.0          30.0   \n",
       "2  --U7joUcTCo             0.0          10.0   \n",
       "3  --i-y1v8Hy8             0.0           9.0   \n",
       "4  -0BIyqJj9ZU            30.0          40.0   \n",
       "\n",
       "                           positive_labels  label_count  \\\n",
       "0    /m/068hy,/m/07q6cd_,/m/0bt9lr,/m/0jbk            4   \n",
       "1                                 /m/03l9g            1   \n",
       "2                                /m/01b_21            1   \n",
       "3  /m/04rlf,/m/09x0r,/t/dd00004,/t/dd00005            4   \n",
       "4         /m/07rgt08,/m/07sq110,/t/dd00001            3   \n",
       "\n",
       "                                  label_names  \n",
       "0    Domestic animals, pets|Squeak|Dog|Animal  \n",
       "1                                      Hammer  \n",
       "2                                       Cough  \n",
       "3   Music|Speech|Female singing|Child singing  \n",
       "4  Chuckle, chortle|Belly laugh|Baby laughter  "
      ]
     },
     "metadata": {},
     "output_type": "display_data"
    }
   ],
   "source": [
    "# Display the DataFrame and save it to `audio_segments_clean.csv` (without index)\n",
    "\n",
    "# TODO\n",
    "display(audio_segments.head())\n",
    "audio_segments.to_csv('data/audio_segments_clean.csv', index=False)"
   ]
  },
  {
   "cell_type": "markdown",
   "metadata": {
    "id": "o6TlARA6TdKW"
   },
   "source": [
    "### b)\n",
    "\n",
    "Next, using the clean DataFrame, complete the following cells to better understand the distribution of labels in the dataset. For each plot below, make sure to include appropriate **axis names** and a **title**."
   ]
  },
  {
   "cell_type": "code",
   "execution_count": 7,
   "metadata": {
    "id": "JENamq5JUeow"
   },
   "outputs": [
    {
     "name": "stderr",
     "output_type": "stream",
     "text": [
      "/Users/microbot/miniconda/envs/eda/lib/python3.11/site-packages/seaborn/axisgrid.py:123: UserWarning: The figure layout has changed to tight\n",
      "  self._figure.tight_layout(*args, **kwargs)\n"
     ]
    },
    {
     "data": {
      "text/plain": [
       "<seaborn.axisgrid.FacetGrid at 0x13344bc90>"
      ]
     },
     "execution_count": 7,
     "metadata": {},
     "output_type": "execute_result"
    },
    {
     "data": {
      "image/png": "[encoded data removed]",
      "text/plain": [
       "<Figure size 500x500 with 1 Axes>"
      ]
     },
     "metadata": {},
     "output_type": "display_data"
    }
   ],
   "source": [
    "# Using seaborn, create a histogram of the label count of the rows in the DataFrame\n",
    "\n",
    "# TODO\n",
    "sns.displot(audio_segments['label_count'], kde=False, bins=10)"
   ]
  },
  {
   "cell_type": "markdown",
   "metadata": {},
   "source": [
    "Follow the steps below to create a heatmap showing \"correlation\" between different labels. \n",
    "- Specifically, each cell of the heatmap should correspond to the probability that a sample with the corresponding row label also has the corresponding column label. \n",
    "- Just consider the labels [\"Piano\", \"Classical music\", \"Speech\", \"Conversation\", \"Screaming\"]. \n",
    "\n",
    "Your final plot should look something like this:\n",
    "\n",
    "![alt text](images/heatmap.png \"Heatmap\")"
   ]
  },
  {
   "cell_type": "code",
   "execution_count": 9,
   "metadata": {},
   "outputs": [
    {
     "data": {
      "text/plain": [
       "0                 Domestic animals, pets|Squeak|Dog|Animal\n",
       "1                                                   Hammer\n",
       "2                                                    Cough\n",
       "3                Music|Speech|Female singing|Child singing\n",
       "4               Chuckle, chortle|Belly laugh|Baby laughter\n",
       "                               ...                        \n",
       "20366    Marimba, xylophone|Glockenspiel|Chime|Mallet p...\n",
       "20367    Motor vehicle (road)|Accelerating, revving, vr...\n",
       "20368                                      Chopping (food)\n",
       "20369                                          Music|Sonar\n",
       "20370                  Wind|Rustle|Wind noise (microphone)\n",
       "Name: label_names, Length: 20371, dtype: object"
      ]
     },
     "execution_count": 9,
     "metadata": {},
     "output_type": "execute_result"
    }
   ],
   "source": [
    "audio_segments.label_names"
   ]
  },
  {
   "cell_type": "code",
   "execution_count": 16,
   "metadata": {
    "id": "yJ284gr9Uh7G"
   },
   "outputs": [
    {
     "data": {
      "image/png": "[encoded data removed]",
      "text/plain": [
       "<Figure size 640x480 with 2 Axes>"
      ]
     },
     "metadata": {},
     "output_type": "display_data"
    }
   ],
   "source": [
    "labels = [\"Piano\", \"Music\", \"Speech\", \"Conversation\", \"Screaming\"]\n",
    "\n",
    "# There are a couple ways to approach this, the way we recommend here is to first build a 2D grid where each\n",
    "# value is the get_joint_proportion value between the corresponding row/column using the functions created in q1.py.\n",
    "\n",
    "# TODO\n",
    "proportions = np.ones((5, 5))\n",
    "for i in range(5):\n",
    "    for j in range(5):\n",
    "        proportions[i, j] = get_conditional_proportion(audio_segments.label_names, labels[i], labels[j])\n",
    "\n",
    "# Then using sns.heatmap, create the heatmap, taking advantage of xticklabels and yticklabels to set the label names\n",
    "# as tick values\n",
    "\n",
    "# TODO\n",
    "ax = sns.heatmap(proportions, xticklabels=labels, yticklabels=labels, annot=True, fmt='.2f')\n",
    "plt.show()"
   ]
  },
  {
   "cell_type": "markdown",
   "metadata": {
    "id": "qBnI-CH0VGkm"
   },
   "source": [
    "## Question 2\n",
    "Question 2 has no notebook component, just fill out the `q2.py` file."
   ]
  },
  {
   "cell_type": "markdown",
   "metadata": {
    "id": "M6EIMwUCMmON"
   },
   "source": [
    "## Question 3\n",
    "\n",
    "Download the audio for the following labels using the function created in `q3.py`"
   ]
  },
  {
   "cell_type": "code",
   "execution_count": 19,
   "metadata": {},
   "outputs": [],
   "source": [
    "from q3 import data_pipeline, rename_files, filter_df"
   ]
  },
  {
   "cell_type": "code",
   "execution_count": 23,
   "metadata": {
    "id": "q5YLBNpYMtyL"
   },
   "outputs": [
    {
     "name": "stderr",
     "output_type": "stream",
     "text": [
      "0it [00:00, ?it/s]\n"
     ]
    }
   ],
   "source": [
    "# Download \"Cough\"\n",
    "\n",
    "# TODO\n",
    "data_pipeline(csv_path='data/audio_segments_clean.csv',label='Cough')\n",
    "\n",
    "# Rename to include the start/end times\n",
    "\n",
    "# TODO"
   ]
  },
  {
   "cell_type": "code",
   "execution_count": 23,
   "metadata": {
    "id": "69FxgrpCMzjs"
   },
   "outputs": [],
   "source": [
    "# Download \"Hammer\"\n",
    "\n",
    "# TODO\n",
    "\n",
    "# Rename to include the start/end times\n",
    "\n",
    "# TODO"
   ]
  },
  {
   "cell_type": "markdown",
   "metadata": {},
   "source": [
    "As you've probably noticed, downloading all this audio data is slow (and as such we only required you to download 2 of the labels). In many cases, it is possible to get significant performance increases by using either multiprocessing (https://docs.python.org/3/library/multiprocessing.html) or multithreading (https://docs.python.org/3/library/threading.html) which could for example allow you to download multiple audio files in parallel. \n",
    "\n",
    "As a good rule of thumb, use multithreading when your programs is IO-bound (for example here) and multiprocessing when it is CPU-bound (and thus make use of all the cores of your CPU)"
   ]
  },
  {
   "cell_type": "markdown",
   "metadata": {
    "id": "Ier3C8okRGjp"
   },
   "source": [
    "## Question 4\n",
    "For the following cells, use the ID \"0GNNFBrRz1E\". Complete the functions and run the cells provided below."
   ]
  },
  {
   "cell_type": "code",
   "execution_count": 24,
   "metadata": {},
   "outputs": [],
   "source": [
    "import librosa"
   ]
  },
  {
   "cell_type": "code",
   "execution_count": 25,
   "metadata": {
    "id": "UDG5TVBTR7yb"
   },
   "outputs": [],
   "source": [
    "# Play the audio segment in Jupyter using \n",
    "# https://ipython.org/ipython-doc/dev/api/generated/IPython.display.html#IPython.display.Audio\n",
    "\n",
    "# TODO"
   ]
  },
  {
   "cell_type": "markdown",
   "metadata": {
    "id": "Jb8csrLuT8ej"
   },
   "source": [
    "One way to visualize audio is through the use of mel-spectrograms. At a very high level, Mel-spectrograms convert audio to a 2D image through the use of the Fourier transform (more details can be found here: https://medium.com/analytics-vidhya/understanding-the-mel-spectrogram-fca2afa2ce53)"
   ]
  },
  {
   "cell_type": "code",
   "execution_count": 26,
   "metadata": {
    "id": "2NKfcwYDTQl9"
   },
   "outputs": [],
   "source": [
    "stft_hopsize = 128\n",
    "n_fft = 512\n",
    "sample_rate = 16000\n",
    "\n",
    "def to_log_scale(mel: np.ndarray) -> np.ndarray:\n",
    "    mel = np.log(mel + 1e-6)/2.0\n",
    "    return mel\n",
    "\n",
    "def create_mel_spectrogram(mp3_path: str) -> np.ndarray:\n",
    "    \"\"\" \n",
    "    THIS FUNCTION IS PROVIDED TO HELP YOU.\n",
    "    You still need to fill out the function plot_audio() below\n",
    "    \"\"\"\n",
    "    data, sr = librosa.load(mp3_path, dtype='float32')\n",
    "    librosa_mel = librosa.feature.melspectrogram(y=data, sr=sr, n_fft=512, hop_length=128)\n",
    "    return to_log_scale(librosa_mel)\n",
    "\n",
    "create_mel_spectrogram(\"Hammer_cut/0GNNFBrRz1E_40_50_10.mp3\")"
   ]
  },
  {
   "cell_type": "markdown",
   "metadata": {},
   "source": [
    "Audio data can also be visualized by looking at the waveform (i.e. as a line plot of the amplitude values). We will combine both visualizations methods below. The resulting plot should look something like:\n",
    "![alt text](images/combined_plot.png \"Combined Plot\")"
   ]
  },
  {
   "cell_type": "code",
   "execution_count": 27,
   "metadata": {
    "id": "PMSzMEAfSG_N"
   },
   "outputs": [],
   "source": [
    "def plot_audio(mp3_path: str) -> None:\n",
    "    \"\"\" \n",
    "    Using matplotlib and create_mel_spectrogram() write a function that takes a mp3_path and plots\n",
    "    both the waveform (line plot of amplitudes) and the mel-spectrogram side-by-side as subplots.\n",
    "    \n",
    "    Hint: For the lineplot, try to just .plot the data returned by librosa\n",
    "    \"\"\"\n",
    "    # TODO\n",
    "    \n",
    "\n",
    "plot_audio(\"Hammer_cut/0GNNFBrRz1E_40_50_10.mp3\")"
   ]
  }
 ],
 "metadata": {
  "colab": {
   "collapsed_sections": [],
   "provenance": []
  },
  "kernelspec": {
   "display_name": "Python 3 (ipykernel)",
   "language": "python",
   "name": "python3"
  },
  "language_info": {
   "codemirror_mode": {
    "name": "ipython",
    "version": 3
   },
   "file_extension": ".py",
   "mimetype": "text/x-python",
   "name": "python",
   "nbconvert_exporter": "python",
   "pygments_lexer": "ipython3",
   "version": "3.11.4"
  },
  "vscode": {
   "interpreter": {
    "hash": "8625a912581caad8d2f5c751bfe9fc2f2863ef19c34b4cfe64ba09a57ac03960"
   }
  }
 },
 "nbformat": 4,
 "nbformat_minor": 4
}
