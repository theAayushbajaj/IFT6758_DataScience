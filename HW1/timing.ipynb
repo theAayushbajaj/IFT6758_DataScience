{
 "cells": [
  {
   "cell_type": "code",
   "execution_count": 1,
   "metadata": {},
   "outputs": [],
   "source": [
    "%load_ext autoreload\n",
    "%autoreload 2"
   ]
  },
  {
   "cell_type": "code",
   "execution_count": 12,
   "metadata": {},
   "outputs": [],
   "source": [
    "import monthly_totals"
   ]
  },
  {
   "cell_type": "code",
   "execution_count": 13,
   "metadata": {},
   "outputs": [],
   "source": [
    "data = monthly_totals.get_precip_data()"
   ]
  },
  {
   "cell_type": "code",
   "execution_count": 14,
   "metadata": {},
   "outputs": [
    {
     "name": "stdout",
     "output_type": "stream",
     "text": [
      "(11, 12)\n"
     ]
    }
   ],
   "source": [
    "totals_pd, counts_pd = monthly_totals.pivot_months_pandas(data)"
   ]
  },
  {
   "cell_type": "code",
   "execution_count": 15,
   "metadata": {},
   "outputs": [],
   "source": [
    "totals_loop, counts_loop = monthly_totals.pivot_months_loops(data)"
   ]
  },
  {
   "cell_type": "code",
   "execution_count": 16,
   "metadata": {},
   "outputs": [
    {
     "data": {
      "text/html": [
       "<div>\n",
       "<style scoped>\n",
       "    .dataframe tbody tr th:only-of-type {\n",
       "        vertical-align: middle;\n",
       "    }\n",
       "\n",
       "    .dataframe tbody tr th {\n",
       "        vertical-align: top;\n",
       "    }\n",
       "\n",
       "    .dataframe thead th {\n",
       "        text-align: right;\n",
       "    }\n",
       "</style>\n",
       "<table border=\"1\" class=\"dataframe\">\n",
       "  <thead>\n",
       "    <tr style=\"text-align: right;\">\n",
       "      <th>month</th>\n",
       "      <th>2016-01</th>\n",
       "      <th>2016-02</th>\n",
       "      <th>2016-03</th>\n",
       "      <th>2016-04</th>\n",
       "      <th>2016-05</th>\n",
       "      <th>2016-06</th>\n",
       "      <th>2016-07</th>\n",
       "      <th>2016-08</th>\n",
       "      <th>2016-09</th>\n",
       "      <th>2016-10</th>\n",
       "      <th>2016-11</th>\n",
       "      <th>2016-12</th>\n",
       "    </tr>\n",
       "    <tr>\n",
       "      <th>name</th>\n",
       "      <th></th>\n",
       "      <th></th>\n",
       "      <th></th>\n",
       "      <th></th>\n",
       "      <th></th>\n",
       "      <th></th>\n",
       "      <th></th>\n",
       "      <th></th>\n",
       "      <th></th>\n",
       "      <th></th>\n",
       "      <th></th>\n",
       "      <th></th>\n",
       "    </tr>\n",
       "  </thead>\n",
       "  <tbody>\n",
       "    <tr>\n",
       "      <th>BURNABY SIMON FRASER U</th>\n",
       "      <td>180.9</td>\n",
       "      <td>148.2</td>\n",
       "      <td>215.9</td>\n",
       "      <td>37.4</td>\n",
       "      <td>60.6</td>\n",
       "      <td>42.8</td>\n",
       "      <td>44.2</td>\n",
       "      <td>6.8</td>\n",
       "      <td>95.6</td>\n",
       "      <td>142.9</td>\n",
       "      <td>134.9</td>\n",
       "      <td>184.6</td>\n",
       "    </tr>\n",
       "    <tr>\n",
       "      <th>CALGARY INTL A</th>\n",
       "      <td>12.1</td>\n",
       "      <td>2.2</td>\n",
       "      <td>4.6</td>\n",
       "      <td>4.0</td>\n",
       "      <td>68.3</td>\n",
       "      <td>61.6</td>\n",
       "      <td>206.1</td>\n",
       "      <td>83.4</td>\n",
       "      <td>25.3</td>\n",
       "      <td>27.6</td>\n",
       "      <td>2.7</td>\n",
       "      <td>22.4</td>\n",
       "    </tr>\n",
       "    <tr>\n",
       "      <th>GANDER INTL A</th>\n",
       "      <td>89.6</td>\n",
       "      <td>123.2</td>\n",
       "      <td>99.2</td>\n",
       "      <td>110.6</td>\n",
       "      <td>123.6</td>\n",
       "      <td>101.5</td>\n",
       "      <td>126.4</td>\n",
       "      <td>109.6</td>\n",
       "      <td>102.6</td>\n",
       "      <td>242.2</td>\n",
       "      <td>118.4</td>\n",
       "      <td>109.9</td>\n",
       "    </tr>\n",
       "    <tr>\n",
       "      <th>HALIFAX INTL A</th>\n",
       "      <td>149.1</td>\n",
       "      <td>147.3</td>\n",
       "      <td>145.2</td>\n",
       "      <td>159.5</td>\n",
       "      <td>100.1</td>\n",
       "      <td>72.5</td>\n",
       "      <td>73.4</td>\n",
       "      <td>44.5</td>\n",
       "      <td>84.5</td>\n",
       "      <td>218.5</td>\n",
       "      <td>130.5</td>\n",
       "      <td>183.5</td>\n",
       "    </tr>\n",
       "    <tr>\n",
       "      <th>MONTREAL INTL A</th>\n",
       "      <td>33.6</td>\n",
       "      <td>95.7</td>\n",
       "      <td>95.8</td>\n",
       "      <td>91.9</td>\n",
       "      <td>29.3</td>\n",
       "      <td>59.9</td>\n",
       "      <td>70.6</td>\n",
       "      <td>146.2</td>\n",
       "      <td>24.4</td>\n",
       "      <td>153.2</td>\n",
       "      <td>51.6</td>\n",
       "      <td>87.1</td>\n",
       "    </tr>\n",
       "    <tr>\n",
       "      <th>REVELSTOKE</th>\n",
       "      <td>93.0</td>\n",
       "      <td>56.1</td>\n",
       "      <td>53.3</td>\n",
       "      <td>20.4</td>\n",
       "      <td>54.6</td>\n",
       "      <td>74.8</td>\n",
       "      <td>66.2</td>\n",
       "      <td>27.4</td>\n",
       "      <td>78.5</td>\n",
       "      <td>162.0</td>\n",
       "      <td>129.3</td>\n",
       "      <td>29.5</td>\n",
       "    </tr>\n",
       "    <tr>\n",
       "      <th>SHERBROOKE</th>\n",
       "      <td>18.3</td>\n",
       "      <td>98.2</td>\n",
       "      <td>62.1</td>\n",
       "      <td>47.1</td>\n",
       "      <td>66.7</td>\n",
       "      <td>67.1</td>\n",
       "      <td>52.5</td>\n",
       "      <td>159.9</td>\n",
       "      <td>43.3</td>\n",
       "      <td>117.6</td>\n",
       "      <td>59.4</td>\n",
       "      <td>62.7</td>\n",
       "    </tr>\n",
       "    <tr>\n",
       "      <th>TORONTO CITY CENTRE</th>\n",
       "      <td>13.4</td>\n",
       "      <td>44.7</td>\n",
       "      <td>89.3</td>\n",
       "      <td>61.0</td>\n",
       "      <td>22.0</td>\n",
       "      <td>43.7</td>\n",
       "      <td>55.9</td>\n",
       "      <td>53.4</td>\n",
       "      <td>58.8</td>\n",
       "      <td>24.6</td>\n",
       "      <td>37.4</td>\n",
       "      <td>47.9</td>\n",
       "    </tr>\n",
       "    <tr>\n",
       "      <th>TORONTO INTL A</th>\n",
       "      <td>36.3</td>\n",
       "      <td>49.1</td>\n",
       "      <td>72.9</td>\n",
       "      <td>68.1</td>\n",
       "      <td>34.6</td>\n",
       "      <td>26.9</td>\n",
       "      <td>39.9</td>\n",
       "      <td>66.7</td>\n",
       "      <td>66.3</td>\n",
       "      <td>45.2</td>\n",
       "      <td>49.7</td>\n",
       "      <td>82.1</td>\n",
       "    </tr>\n",
       "    <tr>\n",
       "      <th>VANCOUVER INTL A</th>\n",
       "      <td>168.2</td>\n",
       "      <td>130.4</td>\n",
       "      <td>161.6</td>\n",
       "      <td>24.2</td>\n",
       "      <td>51.6</td>\n",
       "      <td>58.2</td>\n",
       "      <td>32.8</td>\n",
       "      <td>13.8</td>\n",
       "      <td>78.4</td>\n",
       "      <td>203.4</td>\n",
       "      <td>240.2</td>\n",
       "      <td>152.0</td>\n",
       "    </tr>\n",
       "    <tr>\n",
       "      <th>YELLOWKNIFE A</th>\n",
       "      <td>22.0</td>\n",
       "      <td>9.0</td>\n",
       "      <td>2.8</td>\n",
       "      <td>12.0</td>\n",
       "      <td>9.8</td>\n",
       "      <td>30.6</td>\n",
       "      <td>15.4</td>\n",
       "      <td>28.0</td>\n",
       "      <td>48.8</td>\n",
       "      <td>15.8</td>\n",
       "      <td>17.6</td>\n",
       "      <td>11.6</td>\n",
       "    </tr>\n",
       "  </tbody>\n",
       "</table>\n",
       "</div>"
      ],
      "text/plain": [
       "month                   2016-01  2016-02  2016-03  2016-04  2016-05  2016-06  2016-07  2016-08  2016-09  2016-10  2016-11  2016-12\n",
       "name                                                                                                                              \n",
       "BURNABY SIMON FRASER U    180.9    148.2    215.9     37.4     60.6     42.8     44.2      6.8     95.6    142.9    134.9    184.6\n",
       "CALGARY INTL A             12.1      2.2      4.6      4.0     68.3     61.6    206.1     83.4     25.3     27.6      2.7     22.4\n",
       "GANDER INTL A              89.6    123.2     99.2    110.6    123.6    101.5    126.4    109.6    102.6    242.2    118.4    109.9\n",
       "HALIFAX INTL A            149.1    147.3    145.2    159.5    100.1     72.5     73.4     44.5     84.5    218.5    130.5    183.5\n",
       "MONTREAL INTL A            33.6     95.7     95.8     91.9     29.3     59.9     70.6    146.2     24.4    153.2     51.6     87.1\n",
       "REVELSTOKE                 93.0     56.1     53.3     20.4     54.6     74.8     66.2     27.4     78.5    162.0    129.3     29.5\n",
       "SHERBROOKE                 18.3     98.2     62.1     47.1     66.7     67.1     52.5    159.9     43.3    117.6     59.4     62.7\n",
       "TORONTO CITY CENTRE        13.4     44.7     89.3     61.0     22.0     43.7     55.9     53.4     58.8     24.6     37.4     47.9\n",
       "TORONTO INTL A             36.3     49.1     72.9     68.1     34.6     26.9     39.9     66.7     66.3     45.2     49.7     82.1\n",
       "VANCOUVER INTL A          168.2    130.4    161.6     24.2     51.6     58.2     32.8     13.8     78.4    203.4    240.2    152.0\n",
       "YELLOWKNIFE A              22.0      9.0      2.8     12.0      9.8     30.6     15.4     28.0     48.8     15.8     17.6     11.6"
      ]
     },
     "execution_count": 16,
     "metadata": {},
     "output_type": "execute_result"
    }
   ],
   "source": [
    "totals_loop  # look how nicely Jupyter displays a DataFrame..."
   ]
  },
  {
   "cell_type": "code",
   "execution_count": 17,
   "metadata": {},
   "outputs": [
    {
     "data": {
      "text/plain": [
       "0.0"
      ]
     },
     "execution_count": 17,
     "metadata": {},
     "output_type": "execute_result"
    }
   ],
   "source": [
    "abs(totals_pd.values - totals_loop.values).sum() # the two totals should be the same (difference < 1e-8)"
   ]
  },
  {
   "cell_type": "code",
   "execution_count": 18,
   "metadata": {},
   "outputs": [
    {
     "data": {
      "text/plain": [
       "0"
      ]
     },
     "execution_count": 18,
     "metadata": {},
     "output_type": "execute_result"
    }
   ],
   "source": [
    "abs(counts_pd.values - counts_loop.values).sum() # ...counts too."
   ]
  },
  {
   "cell_type": "code",
   "execution_count": 19,
   "metadata": {},
   "outputs": [
    {
     "name": "stdout",
     "output_type": "stream",
     "text": [
      "(11, 12)\n",
      "(11, 12)\n",
      "(11, 12)\n",
      "(11, 12)\n",
      "(11, 12)\n",
      "(11, 12)\n",
      "(11, 12)\n",
      "(11, 12)\n",
      "(11, 12)\n",
      "(11, 12)\n",
      "(11, 12)\n",
      "(11, 12)\n",
      "(11, 12)\n",
      "(11, 12)\n",
      "(11, 12)\n",
      "(11, 12)\n",
      "(11, 12)\n",
      "(11, 12)\n",
      "(11, 12)\n",
      "(11, 12)\n",
      "(11, 12)\n",
      "(11, 12)\n",
      "(11, 12)\n",
      "(11, 12)\n",
      "(11, 12)\n",
      "(11, 12)\n",
      "(11, 12)\n",
      "(11, 12)\n",
      "(11, 12)\n",
      "(11, 12)\n",
      "(11, 12)\n",
      "(11, 12)\n",
      "(11, 12)\n",
      "(11, 12)\n",
      "(11, 12)\n",
      "(11, 12)\n",
      "(11, 12)\n",
      "(11, 12)\n",
      "(11, 12)\n",
      "(11, 12)\n",
      "(11, 12)\n",
      "(11, 12)\n",
      "(11, 12)\n",
      "(11, 12)\n",
      "(11, 12)\n",
      "(11, 12)\n",
      "(11, 12)\n",
      "(11, 12)\n",
      "(11, 12)\n",
      "(11, 12)\n",
      "(11, 12)\n",
      "(11, 12)\n",
      "(11, 12)\n",
      "(11, 12)\n",
      "(11, 12)\n",
      "(11, 12)\n",
      "(11, 12)\n",
      "(11, 12)\n",
      "(11, 12)\n",
      "(11, 12)\n",
      "(11, 12)\n",
      "(11, 12)\n",
      "(11, 12)\n",
      "(11, 12)\n",
      "(11, 12)\n",
      "(11, 12)\n",
      "(11, 12)\n",
      "(11, 12)\n",
      "(11, 12)\n",
      "(11, 12)\n",
      "(11, 12)\n",
      "(11, 12)\n",
      "(11, 12)\n",
      "(11, 12)\n",
      "(11, 12)\n",
      "(11, 12)\n",
      "(11, 12)\n",
      "(11, 12)\n",
      "(11, 12)\n",
      "(11, 12)\n",
      "(11, 12)\n",
      "19.3 ms ± 508 µs per loop (mean ± std. dev. of 7 runs, 10 loops each)\n"
     ]
    }
   ],
   "source": [
    "%timeit monthly_totals.pivot_months_pandas(data)"
   ]
  },
  {
   "cell_type": "code",
   "execution_count": 20,
   "metadata": {},
   "outputs": [
    {
     "name": "stdout",
     "output_type": "stream",
     "text": [
      "202 ms ± 2.03 ms per loop (mean ± std. dev. of 7 runs, 1 loop each)\n"
     ]
    }
   ],
   "source": [
    "%timeit monthly_totals.pivot_months_loops(data)"
   ]
  },
  {
   "cell_type": "code",
   "execution_count": null,
   "metadata": {},
   "outputs": [],
   "source": []
  },
  {
   "cell_type": "code",
   "execution_count": null,
   "metadata": {},
   "outputs": [],
   "source": []
  }
 ],
 "metadata": {
  "kernelspec": {
   "display_name": "Python 3.9.5 ('base')",
   "language": "python",
   "name": "python3"
  },
  "language_info": {
   "codemirror_mode": {
    "name": "ipython",
    "version": 3
   },
   "file_extension": ".py",
   "mimetype": "text/x-python",
   "name": "python",
   "nbconvert_exporter": "python",
   "pygments_lexer": "ipython3",
   "version": "3.11.4"
  },
  "vscode": {
   "interpreter": {
    "hash": "8354007e950ae738bfafe64e4fab29400f8bb1ac7c1cf7409ae21468b05b499a"
   }
  }
 },
 "nbformat": 4,
 "nbformat_minor": 2
}
